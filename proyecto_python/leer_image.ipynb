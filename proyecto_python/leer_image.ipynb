{
 "cells": [
  {
   "attachments": {},
   "cell_type": "markdown",
   "metadata": {},
   "source": [
    "# leer imagen con python o con jupyter\n"
   ]
  },
  {
   "cell_type": "code",
   "execution_count": 1,
   "metadata": {},
   "outputs": [],
   "source": [
    "import cv2 as cv2"
   ]
  },
  {
   "cell_type": "code",
   "execution_count": 2,
   "metadata": {},
   "outputs": [],
   "source": [
    "image = cv2.imread(\"image/image.jpg\")\n",
    "#imread leer imagen de tu archivo (nombre)\n",
    "cv2.imshow(\"Image\",image)\n",
    "# imshow mostrar imagen de tu archivo (\"nombre de imagen\",imagen)\n",
    "cv2.waitKey(0)\n",
    "# waitKey mirar imagen de tu archivo (miisegundos de mirrar si es 0 es indefinido)\n",
    "#Espera a que se presione una tecla.\n",
    "cv2.destroyAllWindows()"
   ]
  }
 ],
 "metadata": {
  "kernelspec": {
   "display_name": "Python 3",
   "language": "python",
   "name": "python3"
  },
  "language_info": {
   "codemirror_mode": {
    "name": "ipython",
    "version": 3
   },
   "file_extension": ".py",
   "mimetype": "text/x-python",
   "name": "python",
   "nbconvert_exporter": "python",
   "pygments_lexer": "ipython3",
   "version": "3.11.2"
  },
  "orig_nbformat": 4
 },
 "nbformat": 4,
 "nbformat_minor": 2
}
