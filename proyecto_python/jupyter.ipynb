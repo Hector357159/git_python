{
 "cells": [
  {
   "cell_type": "code",
   "execution_count": 1,
   "metadata": {},
   "outputs": [],
   "source": [
    "x=2\n"
   ]
  },
  {
   "attachments": {},
   "cell_type": "markdown",
   "metadata": {},
   "source": [
    "# my title\n"
   ]
  },
  {
   "cell_type": "code",
   "execution_count": 2,
   "metadata": {},
   "outputs": [
    {
     "data": {
      "text/plain": [
       "2"
      ]
     },
     "execution_count": 2,
     "metadata": {},
     "output_type": "execute_result"
    }
   ],
   "source": [
    "x"
   ]
  },
  {
   "cell_type": "code",
   "execution_count": 8,
   "metadata": {},
   "outputs": [],
   "source": [
    "import pandas as pd\n",
    "import numpy as np\n",
    "import matplotlib   as  mpl\n",
    "import sklearn as sklearn\n",
    "import sympy as sympy\n",
    "import scipy as scipy\n",
    "import statsmodels as statsmodels\n",
    "import cv2 as cv2\n",
    "\n",
    "#pip install networkx[default] es una libreria de grafos y redes de grafos\n",
    "#scikit-image es una biblioteca de procesamiento de imágenes de código abierto para el lenguaje de programación Python. Incluye algoritmos para segmentación, transformaciones geométricas, manipulación del espacio de color, análisis, filtrado, morfología, detección de características y más\n",
    "#IPython es un shell interactivo que añade funcionalidades extra al modo interactivo incluido con Python, como resaltado de líneas y errores mediante colores\n",
    "#pytables Es una base de datos jerárquica para Python. Permite trabajar con tablas y matrices multimensionales.\n",
    "\n",
    "#PyMC es un paquete de Python para el modelado estadístico bayesiano y el aprendizaje automático probabilístico. Ofrece varios algoritmos de inferencia principalmente métodos Monte Carlo vía cadena de Markov e Inferencia Variacional\n",
    "\n",
    "#El proyecto 'Biopython' es el nombre que recibe una serie de aplicaciones y programas informáticos pensados para cuantificar y hacer cálculos con datos biológicos,\n",
    "\n",
    "#Astropy es una colección de paquetes de software escritos en el lenguaje de programación Python y diseñados para su uso en astronomía. \n",
    "\n",
    "#sunpy estudiar los soles\n",
    "\n",
    "#nipy  neronal\n",
    "\n",
    "#Cartopy es un paquete de Python diseñado para el procesamiento de datos geoespaciales con el fin de producir mapas y otros análisis de datos geoespaciales\n",
    "\n",
    "#Xarray hace que trabajar con arreglos multidimensionales etiquetados en Python sea simple, eficiente y divertido!\n",
    "\n",
    "#-igraph es una colección de bibliotecas para crear y manipular gráficos y analizar redes. Está escrito en C y también existe como paquetes de Python y R.\n",
    "\n",
    "#Neo4j es un software libre de Base de datos orientada a grafos, implementado en Java.​​\n",
    "\n",
    "#Gephi Es software open-source de análisis de redes y visualización escrito en Java en la plataforma NetBeans\n",
    "\n",
    "#graph-tool es un módulo de Python para la manipulación y el análisis estadístico de gráficos. Las estructuras de datos centrales y los algoritmos de graph-tool se implementan en C++\n",
    "\n",
    "\n",
    "\n"
   ]
  }
 ],
 "metadata": {
  "kernelspec": {
   "display_name": "Python 3",
   "language": "python",
   "name": "python3"
  },
  "language_info": {
   "codemirror_mode": {
    "name": "ipython",
    "version": 3
   },
   "file_extension": ".py",
   "mimetype": "text/x-python",
   "name": "python",
   "nbconvert_exporter": "python",
   "pygments_lexer": "ipython3",
   "version": "3.11.2"
  },
  "orig_nbformat": 4
 },
 "nbformat": 4,
 "nbformat_minor": 2
}
